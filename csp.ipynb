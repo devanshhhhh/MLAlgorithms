{
 "cells": [
  {
   "cell_type": "code",
   "execution_count": 1,
   "id": "6fbe6878",
   "metadata": {},
   "outputs": [
    {
     "name": "stdout",
     "output_type": "stream",
     "text": [
      "{'x': 7, 'y': 12}\n",
      "{'x': 7, 'y': 11}\n",
      "{'x': 7, 'y': 10}\n",
      "{'x': 7, 'y': 9}\n",
      "{'x': 6, 'y': 12}\n",
      "{'x': 6, 'y': 11}\n",
      "{'x': 6, 'y': 10}\n",
      "{'x': 5, 'y': 12}\n",
      "{'x': 5, 'y': 11}\n",
      "{'x': 4, 'y': 12}\n"
     ]
    }
   ],
   "source": [
    "# Devansh Arora (209303373)\n",
    "# Python code to solve some algebraic relations using constraint satisfaction\n",
    "from constraint import *\n",
    "\n",
    "problem = Problem()\n",
    "problem.addVariable(\"x\", [1, 2, 3, 4, 5, 6, 7])\n",
    "problem.addVariable(\"y\", [1, 2, 3, 4, 5, 6, 7, 8, 9, 10, 11, 12])\n",
    "\n",
    "\n",
    "def my_constraint(x, y):\n",
    "    if x+y > 15:\n",
    "        return True\n",
    "\n",
    "\n",
    "problem.addConstraint(my_constraint, ['x', 'y'])\n",
    "s = problem.getSolutions()\n",
    "for i in s:\n",
    "    print(i)\n"
   ]
  },
  {
   "cell_type": "code",
   "execution_count": null,
   "id": "afcaace0",
   "metadata": {},
   "outputs": [],
   "source": []
  }
 ],
 "metadata": {
  "kernelspec": {
   "display_name": "Python 3 (ipykernel)",
   "language": "python",
   "name": "python3"
  },
  "language_info": {
   "codemirror_mode": {
    "name": "ipython",
    "version": 3
   },
   "file_extension": ".py",
   "mimetype": "text/x-python",
   "name": "python",
   "nbconvert_exporter": "python",
   "pygments_lexer": "ipython3",
   "version": "3.9.5"
  }
 },
 "nbformat": 4,
 "nbformat_minor": 5
}
